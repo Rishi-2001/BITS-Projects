{
 "cells": [
  {
   "cell_type": "markdown",
   "metadata": {},
   "source": [
    "## IMPORTS\n",
    "No need to change"
   ]
  },
  {
   "cell_type": "code",
   "execution_count": 11,
   "metadata": {},
   "outputs": [],
   "source": [
    "from selenium import webdriver\n",
    "from selenium.webdriver.common.by import By\n",
    "from selenium.webdriver.support.ui import WebDriverWait\n",
    "from selenium.webdriver.support import expected_conditions as EC\n",
    "from bs4 import BeautifulSoup as bs\n",
    "import time, math, re"
   ]
  },
  {
   "cell_type": "code",
   "execution_count": 2,
   "metadata": {},
   "outputs": [],
   "source": [
    "chrome_options = webdriver.ChromeOptions()\n",
    "prefs = {\"profile.managed_default_content_settings.images\": 2}\n",
    "chrome_options.add_experimental_option(\"prefs\", prefs)\n",
    "driver = webdriver.Chrome(chrome_options=chrome_options)"
   ]
  },
  {
   "cell_type": "markdown",
   "metadata": {},
   "source": [
    "## MANUAL NAVIGATION\n",
    "The chrome browser must have opened, in the needs go to the first page of tutors with results 1-10 and copy the url, paste it in place of URL below"
   ]
  },
  {
   "cell_type": "code",
   "execution_count": 50,
   "metadata": {},
   "outputs": [],
   "source": [
    "URL = \"https://www.urbanpro.com/need/applicantListForSeeker?id=7135438&srtBy=URBANPRORATING&af=0&page=1&tc=25385&onlnCls=on&hmTn=false&rglrCls=false&pincode=226012%20(AASHIYANA,%20Lucknow)&ATTR1=178&ATTR4=English&ATTR4=Sanskrit&ATTR4=Telugu&ATTR4=Gujarati&ATTR4=Mathematics&ATTR4=Science&ATTR4=Oriya&ATTR4=Marathi&ATTR4=Tamil&ATTR4=Assamese&ATTR4=Punjabi&ATTR4=Japanese&ATTR4=French&ATTR4=Bengali&ATTR4=Social%20Science&ATTR4=Kannada&ATTR4=EVS&ATTR4=Hindi&ATTR4=German&ATTR4=Computers&ATTR4=Urdu&ATTR4=Spanish&ATTR4=Malayalam&ATTR4=Manipuri\"\n",
    "PAGES = math.ceil((int(re.findall(\"tc=[0-9]+\",URL)[0][3:]))/10)\n",
    "URL=URL.replace(\"page=1\", \"page={}\")\n",
    "TUTORS=[]\n",
    "f=open(\"log_urls.txt\",\"w+\")"
   ]
  },
  {
   "cell_type": "code",
   "execution_count": 51,
   "metadata": {},
   "outputs": [],
   "source": [
    "def extract(sleep=30):\n",
    "    _ = WebDriverWait(driver, sleep).until(EC.visibility_of_element_located((By.XPATH, \"//div[@class='providerCard bodyTxt']\")))\n",
    "    page = bs(driver.page_source)\n",
    "    refs = page.find_all('a',{'class':'gaClickEventTrack'})\n",
    "    links = ['https://www.urbanpro.com'+link.attrs['href'] for link in refs]\n",
    "    TUTORS.extend(links)\n",
    "    f.write('\\n'.join(TUTORS)+'\\n')\n",
    "    print(\"{} Tutors are scraped\".format(len(TUTORS)))"
   ]
  },
  {
   "cell_type": "markdown",
   "metadata": {},
   "source": [
    "## Uncomment the ITER=PAGES line below for actual scraping"
   ]
  },
  {
   "cell_type": "code",
   "execution_count": 49,
   "metadata": {
    "tags": []
   },
   "outputs": [
    {
     "output_type": "stream",
     "name": "stdout",
     "text": "10 Tutors are scraped\n"
    }
   ],
   "source": [
    "ITER = 10\n",
    "#ITER = PAGES\n",
    "\n",
    "for i in range(ITER):\n",
    "    driver.get(URL.format(i+1))\n",
    "    extract()\n",
    "f.close()"
   ]
  },
  {
   "cell_type": "code",
   "execution_count": 22,
   "metadata": {},
   "outputs": [],
   "source": [
    "f=open(\"log_profiles\",'w+')"
   ]
  },
  {
   "cell_type": "code",
   "execution_count": 37,
   "metadata": {},
   "outputs": [],
   "source": [
    "def get_profile(url, sleep=10):\n",
    "    driver.get(url)\n",
    "    contact = WebDriverWait(driver, sleep).until(EC.visibility_of_element_located((By.XPATH, \"//a[@class='primaryButton viewNumber messageCallFlow viewNumberMob']\")))\n",
    "    page = bs(driver.page_source)\n",
    "    contact.click()\n",
    "    contact = WebDriverWait(driver, sleep).until(EC.visibility_of_element_located((By.XPATH, \"//a[@class='providerExotelPhoneNumber']\")))\n",
    "    out = (page.find('div',{'class':'profileContentContainer'}), page.find('div',{'class':'profileContentContainer overviewClassesTab'}), contact.text)\n",
    "    f.write(str(out)+'\\n')\n",
    "    return out"
   ]
  },
  {
   "cell_type": "code",
   "execution_count": 40,
   "metadata": {},
   "outputs": [],
   "source": [
    "profiles = [get_profile(tutor_link) for tutor_link in TUTORS"
   ]
  }
 ],
 "metadata": {
  "coursera": {
   "course_slug": "neural-networks-deep-learning",
   "graded_item_id": "TSPse",
   "launcher_item_id": "24mxX"
  },
  "kernelspec": {
   "display_name": "Python 3",
   "language": "python",
   "name": "python3"
  },
  "language_info": {
   "codemirror_mode": {
    "name": "ipython",
    "version": 3
   },
   "file_extension": ".py",
   "mimetype": "text/x-python",
   "name": "python",
   "nbconvert_exporter": "python",
   "pygments_lexer": "ipython3",
   "version": "3.7.7-final"
  }
 },
 "nbformat": 4,
 "nbformat_minor": 2
}